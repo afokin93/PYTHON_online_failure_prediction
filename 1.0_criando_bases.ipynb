{
 "cells": [
  {
   "cell_type": "markdown",
   "id": "01473854-32c4-4c21-9ec9-724cc3783d61",
   "metadata": {},
   "source": [
    "### **A) Importações e primeiros dados**"
   ]
  },
  {
   "cell_type": "code",
   "execution_count": 1,
   "id": "e92ee6ed-319a-432a-a8ee-23d005b34bfd",
   "metadata": {},
   "outputs": [],
   "source": [
    "import warnings\n",
    "warnings.filterwarnings('ignore')\n",
    "\n",
    "import numpy as np\n",
    "import pandas as pd\n",
    "import matplotlib.pyplot as plt"
   ]
  },
  {
   "cell_type": "code",
   "execution_count": 2,
   "id": "e999af3d-3145-416c-aa14-78b47c67bedf",
   "metadata": {},
   "outputs": [],
   "source": [
    "# Importanto dados\n",
    "df = pd.read_csv('NGcpu_data.csv', sep=' ')\n",
    "colunas = pd.read_json('NGcpu_headers.csv')\n",
    "nome_feature = colunas['name']\n",
    "df.set_axis(nome_feature, axis=1, inplace=True)"
   ]
  },
  {
   "cell_type": "code",
   "execution_count": 3,
   "id": "a7025b01-cb75-453d-b19d-7be1c3cf733f",
   "metadata": {},
   "outputs": [],
   "source": [
    "lista=[]\n",
    "for i in df.columns:\n",
    "    if 'label' in i:\n",
    "        lista.append(i)"
   ]
  },
  {
   "cell_type": "code",
   "execution_count": 4,
   "id": "c1aa7ee7-77bd-4949-83cf-b3233cba347a",
   "metadata": {},
   "outputs": [],
   "source": [
    "# Colunas de Golden e Failures\n",
    "df['Golden']=0\n",
    "df['Failure']=1"
   ]
  },
  {
   "cell_type": "code",
   "execution_count": 5,
   "id": "a22125ce-2074-4412-87ad-ac6fabd165b3",
   "metadata": {},
   "outputs": [],
   "source": [
    "# Criando coluna de experimento_id\n",
    "experimentos = df['Description'].unique()\n",
    "experimento_id = {}\n",
    "\n",
    "for i, experimento in enumerate(experimentos):\n",
    "    experimento_id[experimento] = i + 1\n",
    "    \n",
    "df['exp_id'] = df['Description'].map(experimento_id)"
   ]
  },
  {
   "cell_type": "code",
   "execution_count": 6,
   "id": "0a7b33fb-aa65-4998-be28-42528ecbd337",
   "metadata": {},
   "outputs": [],
   "source": [
    "# Guardando relações em um dataframe a parte\n",
    "df_exp = pd.DataFrame({'exp_id': df['exp_id'].values,\n",
    "                       'Description': df['Description'].values})"
   ]
  },
  {
   "cell_type": "code",
   "execution_count": 7,
   "id": "cd6a91a5-7e67-4157-93b9-a3f231faa36f",
   "metadata": {},
   "outputs": [],
   "source": [
    "# Eliminando colunas referente aos lead times + window prediction e as linhas cujas labels são 8 e 9\n",
    "df1 = df[[col for col in df.columns if 'label' not in col]]\n",
    "df2 = df['label_5_5']\n",
    "df1 = df1.join(df2)\n",
    "df3 = df1[df1['label_5_5'] != 8]\n",
    "df4 = df3[df3['label_5_5'] != 9]"
   ]
  },
  {
   "cell_type": "code",
   "execution_count": 8,
   "id": "45d50aa0-3430-454f-81df-10c4575722b0",
   "metadata": {},
   "outputs": [],
   "source": [
    "# Reorganizar a ordem e nome das colunas\n",
    "novas_colunas = [df4.columns[0]] + [df4.columns[-2]] + df4.columns[1:3].tolist() + [df4.columns[-4]] + [df4.columns[-3]] + [df4.columns[-1]] + df4.columns[3:-5].tolist()\n",
    "df4 = df4[novas_colunas]\n",
    "df4 = df4.rename(columns=lambda x: x.split('{')[1][:-1] if '{' in x else x)"
   ]
  },
  {
   "cell_type": "code",
   "execution_count": 9,
   "id": "5dfd8e82-cc56-4614-b720-c723df2c36b0",
   "metadata": {},
   "outputs": [],
   "source": [
    "# Criando dataframes sem injeção, com injeção sem falha e com injeção com falha\n",
    "df_golden_run = df4[df4['Description'].str.startswith('G')]\n",
    "df_failure_no = df4[~df4['Description'].str.startswith('G') & ~df4['Description'].str.endswith('f')]\n",
    "df_failure_si = df4[df4['Description'].str.endswith('f')]"
   ]
  },
  {
   "cell_type": "code",
   "execution_count": 10,
   "id": "b89102a0-bdb8-4351-846b-92ea70a10978",
   "metadata": {},
   "outputs": [],
   "source": [
    "# Ajustando colunas Golden e Failure\n",
    "df_golden_run['Golden']=1\n",
    "df_golden_run['Failure']=0\n",
    "df_failure_no['Failure']=0\n",
    "df_failure_si['Failure'] = df_failure_si['label_5_5'].apply(lambda x: 0 if x == 0 else 1)"
   ]
  },
  {
   "cell_type": "code",
   "execution_count": 11,
   "id": "99f2dec4-e6be-473e-9df4-4b05aa13b948",
   "metadata": {},
   "outputs": [
    {
     "data": {
      "text/html": [
       "<div>\n",
       "<style scoped>\n",
       "    .dataframe tbody tr th:only-of-type {\n",
       "        vertical-align: middle;\n",
       "    }\n",
       "\n",
       "    .dataframe tbody tr th {\n",
       "        vertical-align: top;\n",
       "    }\n",
       "\n",
       "    .dataframe thead th {\n",
       "        text-align: right;\n",
       "    }\n",
       "</style>\n",
       "<table border=\"1\" class=\"dataframe\">\n",
       "  <thead>\n",
       "    <tr style=\"text-align: right;\">\n",
       "      <th></th>\n",
       "      <th>Description</th>\n",
       "      <th>exp_id</th>\n",
       "      <th>Index</th>\n",
       "      <th>Fault</th>\n",
       "      <th>Golden</th>\n",
       "      <th>Failure</th>\n",
       "      <th>label_5_5</th>\n",
       "      <th>chart=\"apps.cpu\",family=\"cpu\",dimension=\"apps.plugin\"</th>\n",
       "      <th>chart=\"apps.cpu\",family=\"cpu\",dimension=\"cron\"</th>\n",
       "      <th>chart=\"apps.cpu\",family=\"cpu\",dimension=\"go.d.plugin\"</th>\n",
       "      <th>...</th>\n",
       "      <th>chart=\"users.pwrites\",family=\"disk\",dimension=\"root\"</th>\n",
       "      <th>chart=\"users.sockets\",family=\"net\",dimension=\"fields\"</th>\n",
       "      <th>chart=\"users.sockets\",family=\"net\",dimension=\"messagebus\"</th>\n",
       "      <th>chart=\"users.sockets\",family=\"net\",dimension=\"netdata\"</th>\n",
       "      <th>chart=\"users.sockets\",family=\"net\",dimension=\"root\"</th>\n",
       "      <th>chart=\"users.threads\",family=\"processes\",dimension=\"fields\"</th>\n",
       "      <th>chart=\"users.threads\",family=\"processes\",dimension=\"netdata\"</th>\n",
       "      <th>chart=\"users.threads\",family=\"processes\",dimension=\"root\"</th>\n",
       "      <th>chart=\"users.vmem\",family=\"mem\",dimension=\"fields\"</th>\n",
       "      <th>chart=\"users.vmem\",family=\"mem\",dimension=\"netdata\"</th>\n",
       "    </tr>\n",
       "  </thead>\n",
       "  <tbody>\n",
       "    <tr>\n",
       "      <th>31903</th>\n",
       "      <td>run-0-0438-17_4_25-f</td>\n",
       "      <td>54</td>\n",
       "      <td>0</td>\n",
       "      <td>5</td>\n",
       "      <td>0</td>\n",
       "      <td>0</td>\n",
       "      <td>0</td>\n",
       "      <td>0.999</td>\n",
       "      <td>0.0</td>\n",
       "      <td>0.0</td>\n",
       "      <td>...</td>\n",
       "      <td>3.986172</td>\n",
       "      <td>1.0</td>\n",
       "      <td>5.0</td>\n",
       "      <td>8.0</td>\n",
       "      <td>35.0</td>\n",
       "      <td>5.0</td>\n",
       "      <td>23.0</td>\n",
       "      <td>78.0</td>\n",
       "      <td>15.0</td>\n",
       "      <td>964.9062</td>\n",
       "    </tr>\n",
       "  </tbody>\n",
       "</table>\n",
       "<p>1 rows × 377 columns</p>\n",
       "</div>"
      ],
      "text/plain": [
       "                Description  exp_id  Index  Fault  Golden  Failure  label_5_5  \\\n",
       "31903  run-0-0438-17_4_25-f      54      0      5       0        0          0   \n",
       "\n",
       "       chart=\"apps.cpu\",family=\"cpu\",dimension=\"apps.plugin\"  \\\n",
       "31903                                              0.999       \n",
       "\n",
       "       chart=\"apps.cpu\",family=\"cpu\",dimension=\"cron\"  \\\n",
       "31903                                             0.0   \n",
       "\n",
       "       chart=\"apps.cpu\",family=\"cpu\",dimension=\"go.d.plugin\"  ...  \\\n",
       "31903                                                0.0      ...   \n",
       "\n",
       "       chart=\"users.pwrites\",family=\"disk\",dimension=\"root\"  \\\n",
       "31903                                           3.986172      \n",
       "\n",
       "       chart=\"users.sockets\",family=\"net\",dimension=\"fields\"  \\\n",
       "31903                                                1.0       \n",
       "\n",
       "       chart=\"users.sockets\",family=\"net\",dimension=\"messagebus\"  \\\n",
       "31903                                                5.0           \n",
       "\n",
       "       chart=\"users.sockets\",family=\"net\",dimension=\"netdata\"  \\\n",
       "31903                                                8.0        \n",
       "\n",
       "       chart=\"users.sockets\",family=\"net\",dimension=\"root\"  \\\n",
       "31903                                               35.0     \n",
       "\n",
       "       chart=\"users.threads\",family=\"processes\",dimension=\"fields\"  \\\n",
       "31903                                                5.0             \n",
       "\n",
       "       chart=\"users.threads\",family=\"processes\",dimension=\"netdata\"  \\\n",
       "31903                                               23.0              \n",
       "\n",
       "       chart=\"users.threads\",family=\"processes\",dimension=\"root\"  \\\n",
       "31903                                               78.0           \n",
       "\n",
       "       chart=\"users.vmem\",family=\"mem\",dimension=\"fields\"  \\\n",
       "31903                                               15.0    \n",
       "\n",
       "       chart=\"users.vmem\",family=\"mem\",dimension=\"netdata\"  \n",
       "31903                                           964.9062    \n",
       "\n",
       "[1 rows x 377 columns]"
      ]
     },
     "execution_count": 11,
     "metadata": {},
     "output_type": "execute_result"
    }
   ],
   "source": [
    "df_failure_si.head(1)"
   ]
  },
  {
   "cell_type": "code",
   "execution_count": null,
   "id": "eb49d0af-62ee-45a8-be04-2f63be5a6575",
   "metadata": {},
   "outputs": [],
   "source": []
  },
  {
   "cell_type": "code",
   "execution_count": null,
   "id": "07191495-e477-422f-b1b4-f3a73f9feb93",
   "metadata": {},
   "outputs": [],
   "source": []
  },
  {
   "cell_type": "markdown",
   "id": "16e6b499-644a-4d7b-9c99-c11a4bce6396",
   "metadata": {},
   "source": [
    "### **B) Criando três modos**"
   ]
  },
  {
   "cell_type": "markdown",
   "id": "3be5c656-ff0a-41ad-b0d3-bf5ee1e01d26",
   "metadata": {},
   "source": [
    "#### **B.1) Golden group**"
   ]
  },
  {
   "cell_type": "markdown",
   "id": "57e07049-ebe8-4761-b4e9-d9fa8d3de249",
   "metadata": {},
   "source": [
    "#### B.1.1) Modo 1: Dados brutos"
   ]
  },
  {
   "cell_type": "code",
   "execution_count": 12,
   "id": "f924161c-c759-461c-9ebe-1aa3aea7fbeb",
   "metadata": {},
   "outputs": [],
   "source": [
    "df_golden_run_1 = df_golden_run.drop(['Description', 'Fault', 'Golden', 'Failure', 'label_5_5'], axis=1)"
   ]
  },
  {
   "cell_type": "code",
   "execution_count": 13,
   "id": "3402f63f-3b34-40e4-a4d9-0f965dc7aec8",
   "metadata": {},
   "outputs": [
    {
     "data": {
      "text/plain": [
       "(25868, 372)"
      ]
     },
     "execution_count": 13,
     "metadata": {},
     "output_type": "execute_result"
    }
   ],
   "source": [
    "df_golden_run_1.shape"
   ]
  },
  {
   "cell_type": "markdown",
   "id": "f07ce883-19fc-46f9-aad7-bd2c33ea74e7",
   "metadata": {
    "tags": []
   },
   "source": [
    "#### B.1.2) Modo 2: Transformando features trio em qualitativas"
   ]
  },
  {
   "cell_type": "code",
   "execution_count": 14,
   "id": "a7e7867b-a28b-4549-a5cb-d6db370c64fa",
   "metadata": {},
   "outputs": [],
   "source": [
    "# Criando um df para cada feature\n",
    "inputs = {}\n",
    "\n",
    "for i in range(3,371):\n",
    "    inputs[f'input{i-2}'] = df_golden_run_1[df_golden_run_1.columns[:i].tolist()].drop(df_golden_run_1.columns[1:i-1], axis=1)\n",
    "\n",
    "# Preenchendo a coluna quebrada\n",
    "for key, df_ in inputs.items():\n",
    "    for col in df_.columns[-1].split(','):\n",
    "        df_[col.split('=')[0]] = col.split('=')[1][1:-1]\n",
    "\n",
    "    df_['valor'] = df_[df_.columns[1]]\n",
    "    df_.drop(columns=df_.columns[1], inplace=True)\n",
    "\n",
    "# Combinando todos mini dfs\n",
    "df_golden_run_2 = pd.concat(list(inputs.values()), ignore_index=True)"
   ]
  },
  {
   "cell_type": "code",
   "execution_count": 15,
   "id": "30504059-0b9a-43bd-a57e-127e208b93d8",
   "metadata": {},
   "outputs": [
    {
     "data": {
      "text/plain": [
       "(9519424, 5)"
      ]
     },
     "execution_count": 15,
     "metadata": {},
     "output_type": "execute_result"
    }
   ],
   "source": [
    "df_golden_run_2.shape"
   ]
  },
  {
   "cell_type": "markdown",
   "id": "46e9fd1d-2303-44ff-93ec-399e596f1876",
   "metadata": {},
   "source": [
    "#### B.1.3) Modo 3: Transformando features qualitativas em OHE"
   ]
  },
  {
   "cell_type": "code",
   "execution_count": 16,
   "id": "d3976147-acfc-498e-a176-4c5b3c218fdd",
   "metadata": {},
   "outputs": [
    {
     "name": "stdout",
     "output_type": "stream",
     "text": [
      "108\n",
      "29\n",
      "80\n"
     ]
    }
   ],
   "source": [
    "print(df_golden_run_2.chart.nunique())\n",
    "print(df_golden_run_2.family.nunique())\n",
    "print(df_golden_run_2.dimension.nunique())"
   ]
  },
  {
   "cell_type": "code",
   "execution_count": 17,
   "id": "da05dd7c-822c-4052-8398-2365e116665b",
   "metadata": {},
   "outputs": [],
   "source": [
    "colunas_desejadas_gr = ['chart','family','dimension']\n",
    "# Realiza o one hot encoding nas colunas de interesse\n",
    "df_golden_run_3 = pd.get_dummies(df_golden_run_2, columns=colunas_desejadas_gr)"
   ]
  },
  {
   "cell_type": "code",
   "execution_count": 18,
   "id": "39583682-0b1f-4a45-b38f-e71086e2ba54",
   "metadata": {},
   "outputs": [
    {
     "data": {
      "text/plain": [
       "(9519424, 219)"
      ]
     },
     "execution_count": 18,
     "metadata": {},
     "output_type": "execute_result"
    }
   ],
   "source": [
    "df_golden_run_3.shape"
   ]
  },
  {
   "cell_type": "markdown",
   "id": "ca953ca2-7928-43ac-974c-9b746a112080",
   "metadata": {
    "jp-MarkdownHeadingCollapsed": true,
    "tags": []
   },
   "source": [
    "#### **B.2) Failure group**"
   ]
  },
  {
   "cell_type": "markdown",
   "id": "a03bcba5-f287-44bd-a6af-700bd9732a52",
   "metadata": {},
   "source": [
    "#### B.2.1) Modo 1: Dados brutos"
   ]
  },
  {
   "cell_type": "code",
   "execution_count": 19,
   "id": "b7394dc1-741e-4e3e-be24-341fb4fa06dd",
   "metadata": {},
   "outputs": [],
   "source": [
    "df_failure_si_1 = df_failure_si.drop(['Description', 'Golden', 'Failure'], axis=1)"
   ]
  },
  {
   "cell_type": "code",
   "execution_count": 20,
   "id": "4880e47e-7ba0-419d-9dc4-5caad014797c",
   "metadata": {},
   "outputs": [
    {
     "data": {
      "text/plain": [
       "(6125, 374)"
      ]
     },
     "execution_count": 20,
     "metadata": {},
     "output_type": "execute_result"
    }
   ],
   "source": [
    "df_failure_si_1.shape"
   ]
  },
  {
   "cell_type": "markdown",
   "id": "bba0f8bc-7c43-459f-b82e-884a1f189c43",
   "metadata": {},
   "source": [
    "#### B.2.2) Modo 2: Transformando features trio em qualitativas"
   ]
  },
  {
   "cell_type": "code",
   "execution_count": 21,
   "id": "c770e1d1-cb3b-4c18-9adf-c53db85e3dce",
   "metadata": {},
   "outputs": [],
   "source": [
    "# Criando um df para cada feature\n",
    "inputs = {}\n",
    "    \n",
    "for i in range(5,373):\n",
    "    inputs[f'input{i-4}'] = df_failure_si_1[df_failure_si_1.columns[:i].tolist()].drop(df_failure_si_1.columns[4:i-1], axis=1)\n",
    "\n",
    "# Preenchendo a coluna quebrada\n",
    "for key, df_ in inputs.items():\n",
    "    for col in df_.columns[-1].split(','):\n",
    "        df_[col.split('=')[0]] = col.split('=')[1][1:-1]\n",
    "\n",
    "    df_['valor'] = df_[df_.columns[4]]\n",
    "    df_.drop(columns=df_.columns[4], inplace=True)\n",
    "\n",
    "# Combinando todos mini dfs\n",
    "df_failure_si_2 = pd.concat(list(inputs.values()), ignore_index=True)"
   ]
  },
  {
   "cell_type": "code",
   "execution_count": 22,
   "id": "f975deb4-525b-4cfe-86aa-452f2458055c",
   "metadata": {},
   "outputs": [
    {
     "data": {
      "text/plain": [
       "(2254000, 8)"
      ]
     },
     "execution_count": 22,
     "metadata": {},
     "output_type": "execute_result"
    }
   ],
   "source": [
    "df_failure_si_2.shape"
   ]
  },
  {
   "cell_type": "markdown",
   "id": "2eca9def-1d6c-4684-98b2-d7eaee0e3a7c",
   "metadata": {},
   "source": [
    "#### B.2.3) Modo 3: Transformando features qualitativas em OHE"
   ]
  },
  {
   "cell_type": "code",
   "execution_count": 23,
   "id": "93d3db3c-cfdb-40ac-931d-78000fddcf92",
   "metadata": {},
   "outputs": [
    {
     "name": "stdout",
     "output_type": "stream",
     "text": [
      "108\n",
      "29\n",
      "80\n"
     ]
    }
   ],
   "source": [
    "print(df_failure_si_2.chart.nunique())\n",
    "print(df_failure_si_2.family.nunique())\n",
    "print(df_failure_si_2.dimension.nunique())"
   ]
  },
  {
   "cell_type": "code",
   "execution_count": 24,
   "id": "d56a0776-5182-4df9-b255-0547be8d18b8",
   "metadata": {},
   "outputs": [],
   "source": [
    "colunas_desejadas_ff = ['chart','family','dimension']\n",
    "# Realiza o one hot encoding nas colunas de interesse\n",
    "df_failure_si_3 = pd.get_dummies(df_failure_si_2, columns=colunas_desejadas_ff)"
   ]
  },
  {
   "cell_type": "code",
   "execution_count": 25,
   "id": "616d7c8e-9ac0-4a50-a39f-cd2671aa99c4",
   "metadata": {},
   "outputs": [
    {
     "data": {
      "text/plain": [
       "(2254000, 222)"
      ]
     },
     "execution_count": 25,
     "metadata": {},
     "output_type": "execute_result"
    }
   ],
   "source": [
    "df_failure_si_3.shape"
   ]
  },
  {
   "cell_type": "code",
   "execution_count": null,
   "id": "799716b4-b95f-4c50-85c2-7c2e18d47602",
   "metadata": {},
   "outputs": [],
   "source": []
  },
  {
   "cell_type": "code",
   "execution_count": null,
   "id": "86e706ff-9c0f-4d0b-9e28-4eb60ee84b58",
   "metadata": {},
   "outputs": [],
   "source": []
  },
  {
   "cell_type": "markdown",
   "id": "5f8f639c-487d-4363-ac60-52ab11b97888",
   "metadata": {},
   "source": [
    "### **C) Salvando os docs em CSVs**"
   ]
  },
  {
   "cell_type": "code",
   "execution_count": 26,
   "id": "dab85679-abc8-4f7f-9297-4b73b5313781",
   "metadata": {},
   "outputs": [],
   "source": [
    "gg_m1 = 'golden_modo1.csv'\n",
    "gg_m2 = 'golden_modo2.csv'\n",
    "gg_m3 = 'golden_modo3.csv'\n",
    "\n",
    "# Salvar o DataFrame no arquivo CSV\n",
    "df_golden_run_1.to_csv(gg_m1, index=False)\n",
    "df_golden_run_2.to_csv(gg_m2, index=False)\n",
    "df_golden_run_3.to_csv(gg_m3, index=False)"
   ]
  },
  {
   "cell_type": "code",
   "execution_count": 27,
   "id": "52fcb8cb-ec9b-4d98-ab86-1ce870c41974",
   "metadata": {},
   "outputs": [],
   "source": [
    "fg_m1 = 'failure_modo1.csv'\n",
    "fg_m2 = 'failure_modo2.csv'\n",
    "fg_m3 = 'failure_modo3.csv'\n",
    "\n",
    "# Salvar o DataFrame no arquivo CSV\n",
    "df_failure_si_1.to_csv(fg_m1, index=False)\n",
    "df_failure_si_2.to_csv(fg_m2, index=False)\n",
    "df_failure_si_3.to_csv(fg_m3, index=False)"
   ]
  },
  {
   "cell_type": "code",
   "execution_count": null,
   "id": "24c46017-8cda-4a41-afe5-706af13ab314",
   "metadata": {},
   "outputs": [],
   "source": []
  },
  {
   "cell_type": "code",
   "execution_count": null,
   "id": "621337b1-32a7-4efb-a457-d5da02f35590",
   "metadata": {},
   "outputs": [],
   "source": []
  }
 ],
 "metadata": {
  "kernelspec": {
   "display_name": "Python 3 (ipykernel)",
   "language": "python",
   "name": "python3"
  },
  "language_info": {
   "codemirror_mode": {
    "name": "ipython",
    "version": 3
   },
   "file_extension": ".py",
   "mimetype": "text/x-python",
   "name": "python",
   "nbconvert_exporter": "python",
   "pygments_lexer": "ipython3",
   "version": "3.9.12"
  }
 },
 "nbformat": 4,
 "nbformat_minor": 5
}
